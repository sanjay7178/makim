{
 "cells": [
  {
   "cell_type": "markdown",
   "id": "d90d4221-b1e8-4d69-bfd9-78acb2eae418",
   "metadata": {},
   "source": [
    "# Makim for Nox Users"
   ]
  },
  {
   "cell_type": "markdown",
   "id": "37f74f2c-964d-424f-bc23-4d12930ad1f0",
   "metadata": {},
   "source": [
    "For those familiar with Nox, a command-line automation tool designed for testing across multiple Python environments, Makim presents a flexible alternative. While both tools serve automation purposes, they differ in configuration approach and scope."
   ]
  },
  {
   "cell_type": "markdown",
   "id": "0840e02a-6cd3-463a-a793-32263d6fce3f",
   "metadata": {},
   "source": [
    "Makim is not designed to supersede Nox or facilitate direct integration with it. The purpose of this guide is to highlight both the similarities and differences between the two tools, and to explore possible ways to integrate Nox tasks (sessions) within the Makim."
   ]
  },
  {
   "cell_type": "markdown",
   "id": "804b54d3-5518-44af-bdb8-284caf4e0f3a",
   "metadata": {},
   "source": [
    "## Initial Setup"
   ]
  },
  {
   "cell_type": "markdown",
   "id": "7e1194e6-a774-4c01-ab6e-460d4669822b",
   "metadata": {},
   "source": [
    "To begin, ensure Nox is installed in your environment:"
   ]
  },
  {
   "cell_type": "code",
   "execution_count": 1,
   "id": "e348f105-6471-44e1-8a7e-3323825d0e20",
   "metadata": {},
   "outputs": [],
   "source": [
    "!pip install -q nox"
   ]
  },
  {
   "cell_type": "markdown",
   "id": "f27b56f8-06a6-41a2-9c98-b2c25dbc609c",
   "metadata": {},
   "source": [
    "## Transitioning from Nox to Makim"
   ]
  },
  {
   "cell_type": "markdown",
   "id": "3b60cb09-a540-49b7-a6b7-236ae6f0afa9",
   "metadata": {},
   "source": [
    "Though Makim is not a direct replacement for Nox, understanding their similarities and differences can streamline the transition process for specific tasks or workflows. Consider the following Nox configuration:"
   ]
  },
  {
   "cell_type": "code",
   "execution_count": 2,
   "id": "5b323b60-0d51-4386-8b6c-3fab40692147",
   "metadata": {},
   "outputs": [
    {
     "name": "stdout",
     "output_type": "stream",
     "text": [
      "Overwriting noxfile.py\n"
     ]
    }
   ],
   "source": [
    "%%writefile noxfile.py\n",
    "import nox\n",
    "\n",
    "@nox.session(name=\"custom-name\")\n",
    "def tests(session: nox.Session) -> None:\n",
    "    \"\"\"Run tests with pytest.\"\"\"\n",
    "    session.install(\"pytest\")\n",
    "    session.run(\"pytest\", \"--version\")\n",
    "\n",
    "@nox.session\n",
    "def lint(session: nox.Session):\n",
    "    \"\"\"Run linters on the codebase.\"\"\"\n",
    "    session.install('flake8')\n",
    "    # Example of using session.posargs for ad-hoc arguments\n",
    "    additional_args = session.posargs or []\n",
    "    session.run('flake8', '--version', *additional_args)"
   ]
  },
  {
   "cell_type": "markdown",
   "id": "8981f1fe-8f61-4947-8086-c2fde7c870de",
   "metadata": {},
   "source": [
    "In this example, we are using `--version` with `pytest` and `flake8` just to check if everything is working properly. In a real code, it should execute directly `pytest` and `flake8`."
   ]
  },
  {
   "cell_type": "markdown",
   "id": "04a718cf-4f1a-43d3-96df-66d259e2418e",
   "metadata": {},
   "source": [
    "Let's check how the **nox** list output (similar to a help output) would look like:"
   ]
  },
  {
   "cell_type": "code",
   "execution_count": 3,
   "id": "03f594bb-6723-451c-a518-8cfa9751f543",
   "metadata": {},
   "outputs": [
    {
     "name": "stdout",
     "output_type": "stream",
     "text": [
      "Sessions defined in /mnt/sda1/storage/dev/opensciencelabs-projects/osl-incubator/makim/docs/tutorials/noxfile.py:\n",
      "\n",
      "* \u001b[36mcustom-name\u001b[0m -> Run tests with pytest.\n",
      "* \u001b[36mlint\u001b[0m -> Run linters on the codebase.\n",
      "\n",
      "sessions marked with \u001b[36m*\u001b[0m are selected, sessions marked with \u001b[37m-\u001b[0m are skipped.\n"
     ]
    }
   ],
   "source": [
    "!nox --list"
   ]
  },
  {
   "cell_type": "markdown",
   "id": "c5440c86-20e0-4099-90ea-df9b9176f609",
   "metadata": {},
   "source": [
    "**NOTE:** It appears that Nox does not offer a built-in, first-class method for displaying the arguments used by each Nox session."
   ]
  },
  {
   "cell_type": "markdown",
   "id": "fc86d486-8446-4bfc-9291-5d939fde8b47",
   "metadata": {},
   "source": [
    "We can also verify that the command functions as expected:"
   ]
  },
  {
   "cell_type": "code",
   "execution_count": 4,
   "id": "31e16c49-0158-4ecb-875b-46662e0cfc2d",
   "metadata": {},
   "outputs": [
    {
     "name": "stdout",
     "output_type": "stream",
     "text": [
      "\u001b[36mnox > \u001b[33mRunning session custom-name\u001b[0m\n",
      "\u001b[36mnox > \u001b[34mCreating virtual environment (virtualenv) using python3.8 in .nox/custom-name\u001b[0m\n",
      "\u001b[36mnox > \u001b[34mpython -m pip install pytest\u001b[0m\n",
      "\u001b[36mnox > \u001b[34mpytest --version\u001b[0m\n",
      "pytest 8.1.1\n",
      "\u001b[36mnox > \u001b[32mSession custom-name was successful.\u001b[0m\n",
      "\u001b[36mnox > \u001b[33mRunning session lint\u001b[0m\n",
      "\u001b[36mnox > \u001b[34mCreating virtual environment (virtualenv) using python3.8 in .nox/lint\u001b[0m\n",
      "\u001b[36mnox > \u001b[34mpython -m pip install flake8\u001b[0m\n",
      "\u001b[36mnox > \u001b[34mflake8 --version\u001b[0m\n",
      "7.0.0 (mccabe: 0.7.0, pycodestyle: 2.11.1, pyflakes: 3.2.0) CPython 3.8.1 on\n",
      "Linux\n",
      "\u001b[36mnox > \u001b[32mSession lint was successful.\u001b[0m\n",
      "\u001b[36mnox > \u001b[33mRan multiple sessions:\u001b[0m\n",
      "\u001b[36mnox > \u001b[32m* custom-name: success\u001b[0m\n",
      "\u001b[36mnox > \u001b[32m* lint: success\u001b[0m\n"
     ]
    }
   ],
   "source": [
    "!nox"
   ]
  },
  {
   "cell_type": "markdown",
   "id": "d50d4a71-02e7-4a57-9232-1f82211e4758",
   "metadata": {},
   "source": [
    "It is working as expected!"
   ]
  },
  {
   "cell_type": "markdown",
   "id": "3dbb0585-390c-442d-98a8-cb95902ad005",
   "metadata": {},
   "source": [
    "To replicate this functionality in Makim, you would use a `.makim.yaml` configuration file:"
   ]
  },
  {
   "cell_type": "code",
   "execution_count": 5,
   "id": "e9d779b8-9f04-43db-bb61-84ad57f4ce46",
   "metadata": {},
   "outputs": [
    {
     "name": "stdout",
     "output_type": "stream",
     "text": [
      "Overwriting .makim.yaml\n"
     ]
    }
   ],
   "source": [
    "%%writefile .makim.yaml\n",
    "groups:\n",
    "  nox:\n",
    "    help: A set of functionality ported from noxfile.py\n",
    "    tasks:\n",
    "      tests:\n",
    "        help: Run tests with pytest\n",
    "        run: |\n",
    "          pytest --version\n",
    "      lint:\n",
    "        help: Run lint with flake8\n",
    "        args:\n",
    "          extras:\n",
    "            help: Extra arguments for flake8\n",
    "            type: string\n",
    "            default: \"--version\"\n",
    "        run: |\n",
    "          flake8 ${{ args.extras }}"
   ]
  },
  {
   "cell_type": "markdown",
   "id": "a9ea9d53-9e32-4dcf-827d-a02164b05cc6",
   "metadata": {},
   "source": [
    "This example illustrates how to define similar testing and linting tasks within Makim's YAML-based configuration."
   ]
  },
  {
   "cell_type": "markdown",
   "id": "26cc514a-2568-494e-8168-99c2a0c0f0aa",
   "metadata": {},
   "source": [
    "The default configuration file used by **makim** is `.makim.yaml`, but if you want a different file name, you can run `makim` with the flag `--file`."
   ]
  },
  {
   "cell_type": "markdown",
   "id": "524e4342-8e9a-4b05-a786-3c639d888c67",
   "metadata": {},
   "source": [
    "As you can see, it didn't install anything, because it assumes you already have all the dependencies there."
   ]
  },
  {
   "cell_type": "markdown",
   "id": "65b28996-3e8b-4ecf-918f-ce9cd132ce13",
   "metadata": {},
   "source": [
    "Of course, you can install whatever you want inside the Makim `run` block, but it is much better to keep it in your pyproject.toml configuration."
   ]
  },
  {
   "cell_type": "markdown",
   "id": "9e2c51ea-89ab-4689-8e8e-e1e4514034d0",
   "metadata": {},
   "source": [
    "In the future, **makim** will allow users to define specific virtual environments that could be used in a similar way as **nox**."
   ]
  },
  {
   "cell_type": "markdown",
   "id": "c03abb65-a439-48d6-a5dd-2d1bc7c955f3",
   "metadata": {},
   "source": [
    "**NOTE**: This tutorial used **makim** version **1.15.0**. The version `1.*` is still a beta version, so you maybe will find differences with future versions."
   ]
  },
  {
   "cell_type": "markdown",
   "id": "1e563e09-31fe-4d55-92df-b2ddb02008c1",
   "metadata": {},
   "source": [
    "Before running the `makim` command, please install it in your virtual environment: `pip install \"makim==1.15.0\"`."
   ]
  },
  {
   "cell_type": "markdown",
   "id": "bb7d6db7-1f05-43b2-90fc-c0a284840af3",
   "metadata": {},
   "source": [
    "First, let's check how the **makim** `help` menu looks like:"
   ]
  },
  {
   "cell_type": "code",
   "execution_count": 6,
   "id": "7e3ed6c4-81d2-4f83-a0c9-91f5c6133b9f",
   "metadata": {},
   "outputs": [
    {
     "name": "stdout",
     "output_type": "stream",
     "text": [
      "\u001b[34m DEFAULT SHELL: xonsh\u001b[0m\n",
      "\u001b[1m                                                                                \u001b[0m\n",
      "\u001b[1m \u001b[0m\u001b[1;33mUsage: \u001b[0m\u001b[1mmakim [OPTIONS] COMMAND [ARGS]...\u001b[0m\u001b[1m                                      \u001b[0m\u001b[1m \u001b[0m\n",
      "\u001b[1m                                                                                \u001b[0m\n",
      " Makim is an automation tool focused on improving task management using YAML    \n",
      " format.                                                                        \n",
      "                                                                                \n",
      "\u001b[2m╭─\u001b[0m\u001b[2m Options \u001b[0m\u001b[2m───────────────────────────────────────────────────────────────────\u001b[0m\u001b[2m─╮\u001b[0m\n",
      "\u001b[2m│\u001b[0m \u001b[1;36m-\u001b[0m\u001b[1;36m-version\u001b[0m             \u001b[1;32m-v\u001b[0m      \u001b[1;33m    \u001b[0m  Show the version and exit                \u001b[2m│\u001b[0m\n",
      "\u001b[2m│\u001b[0m \u001b[1;36m-\u001b[0m\u001b[1;36m-file\u001b[0m                        \u001b[1;33mTEXT\u001b[0m  Makim config file \u001b[2m[default: .makim.yaml]\u001b[0m \u001b[2m│\u001b[0m\n",
      "\u001b[2m│\u001b[0m \u001b[1;36m-\u001b[0m\u001b[1;36m-dry\u001b[0m\u001b[1;36m-run\u001b[0m                     \u001b[1;33m    \u001b[0m  Execute the command in dry mode          \u001b[2m│\u001b[0m\n",
      "\u001b[2m│\u001b[0m \u001b[1;36m-\u001b[0m\u001b[1;36m-verbose\u001b[0m                     \u001b[1;33m    \u001b[0m  Execute the command in verbose mode      \u001b[2m│\u001b[0m\n",
      "\u001b[2m│\u001b[0m \u001b[1;36m-\u001b[0m\u001b[1;36m-skip\u001b[0m\u001b[1;36m-hooks\u001b[0m                  \u001b[1;33m    \u001b[0m  Skip hooks while executing the command   \u001b[2m│\u001b[0m\n",
      "\u001b[2m│\u001b[0m \u001b[1;36m-\u001b[0m\u001b[1;36m-install\u001b[0m\u001b[1;36m-completion\u001b[0m          \u001b[1;33m    \u001b[0m  Install completion for the current       \u001b[2m│\u001b[0m\n",
      "\u001b[2m│\u001b[0m                                     shell.                                   \u001b[2m│\u001b[0m\n",
      "\u001b[2m│\u001b[0m \u001b[1;36m-\u001b[0m\u001b[1;36m-show\u001b[0m\u001b[1;36m-completion\u001b[0m             \u001b[1;33m    \u001b[0m  Show completion for the current shell,   \u001b[2m│\u001b[0m\n",
      "\u001b[2m│\u001b[0m                                     to copy it or customize the              \u001b[2m│\u001b[0m\n",
      "\u001b[2m│\u001b[0m                                     installation.                            \u001b[2m│\u001b[0m\n",
      "\u001b[2m│\u001b[0m \u001b[1;36m-\u001b[0m\u001b[1;36m-help\u001b[0m                        \u001b[1;33m    \u001b[0m  Show this message and exit.              \u001b[2m│\u001b[0m\n",
      "\u001b[2m╰──────────────────────────────────────────────────────────────────────────────╯\u001b[0m\n",
      "\u001b[2m╭─\u001b[0m\u001b[2m nox \u001b[0m\u001b[2m───────────────────────────────────────────────────────────────────────\u001b[0m\u001b[2m─╮\u001b[0m\n",
      "\u001b[2m│\u001b[0m \u001b[1;36mnox.tests \u001b[0m\u001b[1;36m \u001b[0m Run nox tests                                                    \u001b[2m│\u001b[0m\n",
      "\u001b[2m│\u001b[0m \u001b[1;36mnox.lint  \u001b[0m\u001b[1;36m \u001b[0m Run nox tests                                                    \u001b[2m│\u001b[0m\n",
      "\u001b[2m│\u001b[0m \u001b[1;36mnox.all   \u001b[0m\u001b[1;36m \u001b[0m Run nox tests                                                    \u001b[2m│\u001b[0m\n",
      "\u001b[2m╰──────────────────────────────────────────────────────────────────────────────╯\u001b[0m\n",
      "\u001b[2m╭─\u001b[0m\u001b[2m Extensions \u001b[0m\u001b[2m────────────────────────────────────────────────────────────────\u001b[0m\u001b[2m─╮\u001b[0m\n",
      "\u001b[2m│\u001b[0m \u001b[1;36mcron      \u001b[0m\u001b[1;36m \u001b[0m Tasks Scheduler                                                  \u001b[2m│\u001b[0m\n",
      "\u001b[2m╰──────────────────────────────────────────────────────────────────────────────╯\u001b[0m\n",
      "                                                                                \n",
      " If you have any problem, open an issue at:                                     \n",
      " https://github.com/osl-incubator/makim                                         \n",
      "                                                                                \n",
      "\n"
     ]
    }
   ],
   "source": [
    "!makim --help"
   ]
  },
  {
   "cell_type": "markdown",
   "id": "3c765dac-1916-427f-903d-dda910cdafdf",
   "metadata": {},
   "source": [
    "And if you want to check more details about a specific _command_:"
   ]
  },
  {
   "cell_type": "code",
   "execution_count": 7,
   "id": "48756fb4-f6d3-4bfe-aba1-a1429bf06d7f",
   "metadata": {},
   "outputs": [
    {
     "name": "stdout",
     "output_type": "stream",
     "text": [
      "Makim file: .makim.yaml\n",
      "\u001b[1m                                                                                \u001b[0m\n",
      "\u001b[1m \u001b[0m\u001b[1;33mUsage: \u001b[0m\u001b[1mmakim nox.lint [OPTIONS]\u001b[0m\u001b[1m                                               \u001b[0m\u001b[1m \u001b[0m\n",
      "\u001b[1m                                                                                \u001b[0m\n",
      " Run lint with flake8                                                           \n",
      "                                                                                \n",
      "\u001b[2m╭─\u001b[0m\u001b[2m Options \u001b[0m\u001b[2m───────────────────────────────────────────────────────────────────\u001b[0m\u001b[2m─╮\u001b[0m\n",
      "\u001b[2m│\u001b[0m \u001b[1;36m-\u001b[0m\u001b[1;36m-extras\u001b[0m        \u001b[1;33mTEXT\u001b[0m  Extra arguments for flake8 \u001b[2m[default: --version]\u001b[0m        \u001b[2m│\u001b[0m\n",
      "\u001b[2m│\u001b[0m \u001b[1;36m-\u001b[0m\u001b[1;36m-help\u001b[0m          \u001b[1;33m    \u001b[0m  Show this message and exit.                            \u001b[2m│\u001b[0m\n",
      "\u001b[2m╰──────────────────────────────────────────────────────────────────────────────╯\u001b[0m\n",
      "\n"
     ]
    }
   ],
   "source": [
    "!makim nox.lint --help"
   ]
  },
  {
   "cell_type": "markdown",
   "id": "d31aacde-0402-441c-9c18-db5c4091cea9",
   "metadata": {},
   "source": [
    "As you can see, it shows information about all the possible arguments for each _command_."
   ]
  },
  {
   "cell_type": "markdown",
   "id": "33ab0158-8495-40f9-81b9-69b74d284622",
   "metadata": {},
   "source": [
    "## Understanding Makim's Approach"
   ]
  },
  {
   "cell_type": "markdown",
   "id": "cc82d6e4-8fad-47af-ad76-d7101265d61a",
   "metadata": {},
   "source": [
    "Makim enhances the automation process by focusing on direct command execution within predefined environments. Unlike Nox, which creates and manages virtual environments, Makim assumes dependencies are already installed, streamlining its operations."
   ]
  },
  {
   "cell_type": "markdown",
   "id": "4e3b55cc-82ef-4735-b622-a43bca89db96",
   "metadata": {},
   "source": [
    "Future versions of Makim plan to introduce more advanced virtual environment management, potentially aligning closer with Nox's functionality."
   ]
  },
  {
   "cell_type": "markdown",
   "id": "0274790f-71bf-4f9e-bdd6-152aa69f8124",
   "metadata": {},
   "source": [
    "For more information about **Makim**, please read the [**Introduction**](../introduction/) tutorial."
   ]
  },
  {
   "cell_type": "markdown",
   "id": "77bce63e-3726-4dd5-a591-252d6eeef02a",
   "metadata": {},
   "source": [
    "## Integrating Nox within Makim"
   ]
  },
  {
   "cell_type": "markdown",
   "id": "60c5c2b2-6d51-4d12-82ed-13d678d4d37e",
   "metadata": {},
   "source": [
    "While using Nox directly within a `.makim.yaml` file might seem redundant, it demonstrates Makim's flexibility in accommodating various tools and workflows:"
   ]
  },
  {
   "cell_type": "code",
   "execution_count": null,
   "id": "7854491e-79ba-4d83-aefd-59a67f79c1f0",
   "metadata": {},
   "outputs": [
    {
     "name": "stdout",
     "output_type": "stream",
     "text": [
      "Overwriting .makim.yaml\n"
     ]
    }
   ],
   "source": [
    "%%writefile .makim.yaml\n",
    "groups:\n",
    "  nox:\n",
    "    help: A set of functionality ported from noxfile.py\n",
    "    tasks:\n",
    "      run:\n",
    "        help: Run nox\n",
    "        args:\n",
    "          \"ex\":\n",
    "            help: Extra arguments for nox\n",
    "            type: string\n",
    "            default: \"\"\n",
    "        run: |\n",
    "          nox ${{ args.ex }}"
   ]
  },
  {
   "cell_type": "markdown",
   "id": "6d66216e-f35a-4fba-9d50-d3b783e89efe",
   "metadata": {},
   "source": [
    "This configuration allows for the execution of Nox sessions through Makim, providing an extra layer of automation convenience."
   ]
  },
  {
   "cell_type": "code",
   "execution_count": 9,
   "id": "5873e33c-4d4a-4d5c-8a3f-f53424542dac",
   "metadata": {},
   "outputs": [
    {
     "name": "stdout",
     "output_type": "stream",
     "text": [
      "Makim file: .makim.yaml\n",
      "\u001b[36mnox > \u001b[33mRunning session custom-name\u001b[0m\n",
      "\u001b[36mnox > \u001b[34mCreating virtual environment (virtualenv) using python3.8 in .nox/custom-name\u001b[0m\n",
      "\u001b[36mnox > \u001b[34mpython -m pip install pytest\u001b[0m\n",
      "\u001b[36mnox > \u001b[34mpytest --version\u001b[0m\n",
      "pytest 8.1.1\n",
      "\u001b[36mnox > \u001b[32mSession custom-name was successful.\u001b[0m\n",
      "\u001b[36mnox > \u001b[33mRunning session lint\u001b[0m\n",
      "\u001b[36mnox > \u001b[34mCreating virtual environment (virtualenv) using python3.8 in .nox/lint\u001b[0m\n",
      "\u001b[36mnox > \u001b[34mpython -m pip install flake8\u001b[0m\n",
      "\u001b[36mnox > \u001b[34mflake8 --version\u001b[0m\n",
      "7.0.0 (mccabe: 0.7.0, pycodestyle: 2.11.1, pyflakes: 3.2.0) CPython 3.8.1 on\n",
      "Linux\n",
      "\u001b[36mnox > \u001b[32mSession lint was successful.\u001b[0m\n",
      "\u001b[36mnox > \u001b[33mRan multiple sessions:\u001b[0m\n",
      "\u001b[36mnox > \u001b[32m* custom-name: success\u001b[0m\n",
      "\u001b[36mnox > \u001b[32m* lint: success\u001b[0m\n"
     ]
    }
   ],
   "source": [
    "!makim nox.run"
   ]
  },
  {
   "cell_type": "markdown",
   "id": "a5a44f3f-45f3-4f75-9b32-33fb724e1461",
   "metadata": {},
   "source": [
    "You can also run a specific **nox** session:"
   ]
  },
  {
   "cell_type": "code",
   "execution_count": 10,
   "id": "7c105693-8e0d-48ee-999d-9542f65e5092",
   "metadata": {},
   "outputs": [
    {
     "name": "stdout",
     "output_type": "stream",
     "text": [
      "Makim file: .makim.yaml\n",
      "\u001b[36mnox > \u001b[33mRunning session lint\u001b[0m\n",
      "\u001b[36mnox > \u001b[34mCreating virtual environment (virtualenv) using python3.8 in .nox/lint\u001b[0m\n",
      "\u001b[36mnox > \u001b[34mpython -m pip install flake8\u001b[0m\n",
      "\u001b[36mnox > \u001b[34mflake8 --version\u001b[0m\n",
      "7.0.0 (mccabe: 0.7.0, pycodestyle: 2.11.1, pyflakes: 3.2.0) CPython 3.8.1 on\n",
      "Linux\n",
      "\u001b[36mnox > \u001b[32mSession lint was successful.\u001b[0m\n"
     ]
    }
   ],
   "source": [
    "!makim nox.run --ex \"-s lint\""
   ]
  },
  {
   "cell_type": "markdown",
   "id": "22d5d5df-e3bc-4f3f-8a4c-48f740d5a53f",
   "metadata": {},
   "source": [
    "### Direct Noxfile Integration"
   ]
  },
  {
   "cell_type": "markdown",
   "id": "f74614f9-d137-408f-99ba-497e4399effe",
   "metadata": {},
   "source": [
    "In scenarios where integrating Nox sessions directly within Makim is preferred, Makim's `shell` command can invoke Nox as the interpreter:"
   ]
  },
  {
   "cell_type": "code",
   "execution_count": 11,
   "id": "b4b45167-a1ef-4aef-be56-fab5fd837dab",
   "metadata": {},
   "outputs": [
    {
     "name": "stdout",
     "output_type": "stream",
     "text": [
      "Overwriting .makim.yaml\n"
     ]
    }
   ],
   "source": [
    "%%writefile .makim.yaml\n",
    "groups:\n",
    "  nox:\n",
    "    help: A set of functionality ported from noxfile.py\n",
    "    tasks:\n",
    "      tests:\n",
    "        help: Run nox tests\n",
    "        backend: nox\n",
    "        run: |\n",
    "          import nox\n",
    "\n",
    "          @nox.session(name=\"custom-name\")\n",
    "          def tests(session: nox.Session) -> None:\n",
    "              \"\"\"Run tests with pytest.\"\"\"\n",
    "              session.install(\"pytest\")\n",
    "              session.run(\"pytest\", \"--version\")\n",
    "      lint:\n",
    "        help: Run nox tests\n",
    "        backend: nox\n",
    "        run: |\n",
    "          import nox\n",
    "\n",
    "          @nox.session\n",
    "          def lint(session: nox.Session):\n",
    "              \"\"\"Run linters on the codebase.\"\"\"\n",
    "              session.install('flake8')\n",
    "              session.run('flake8', '--version')\n",
    "\n",
    "      all:\n",
    "        help: Run nox tests\n",
    "        hooks:\n",
    "          pre-run:\n",
    "            - task: nox.tests\n",
    "            - task: nox.lint"
   ]
  },
  {
   "cell_type": "markdown",
   "id": "6334550b-6bfd-42fe-89d0-58fce1fad5ca",
   "metadata": {},
   "source": [
    "In this example, we created a task (task) for each Nox session. To execute the `tests` task, just run:"
   ]
  },
  {
   "cell_type": "code",
   "execution_count": 12,
   "id": "9b918338-9c5e-4682-8ec0-330ed7f6e0ea",
   "metadata": {},
   "outputs": [
    {
     "name": "stdout",
     "output_type": "stream",
     "text": [
      "Makim file: .makim.yaml\n",
      "\u001b[36mnox > \u001b[33mRunning session custom-name\u001b[0m\n",
      "\u001b[36mnox > \u001b[34mCreating virtual environment (virtualenv) using python3.8 in .nox/custom-name\u001b[0m\n",
      "\u001b[36mnox > \u001b[34mpython -m pip install pytest\u001b[0m\n",
      "\u001b[36mnox > \u001b[34mpytest --version\u001b[0m\n",
      "pytest 8.1.1\n",
      "\u001b[36mnox > \u001b[32mSession custom-name was successful.\u001b[0m\n"
     ]
    }
   ],
   "source": [
    "!makim nox.tests"
   ]
  },
  {
   "cell_type": "markdown",
   "id": "92755c57-27a4-4d56-a81a-7d23113c34ba",
   "metadata": {},
   "source": [
    "To execute the `lint` task, run:"
   ]
  },
  {
   "cell_type": "code",
   "execution_count": 13,
   "id": "929bce74-5efc-474b-9acd-fb07e65ffa78",
   "metadata": {},
   "outputs": [
    {
     "name": "stdout",
     "output_type": "stream",
     "text": [
      "Makim file: .makim.yaml\n",
      "\u001b[36mnox > \u001b[33mRunning session lint\u001b[0m\n",
      "\u001b[36mnox > \u001b[34mCreating virtual environment (virtualenv) using python3.8 in .nox/lint\u001b[0m\n",
      "\u001b[36mnox > \u001b[34mpython -m pip install flake8\u001b[0m\n",
      "\u001b[36mnox > \u001b[34mflake8 --version\u001b[0m\n",
      "7.0.0 (mccabe: 0.7.0, pycodestyle: 2.11.1, pyflakes: 3.2.0) CPython 3.8.1 on\n",
      "Linux\n",
      "\u001b[36mnox > \u001b[32mSession lint was successful.\u001b[0m\n"
     ]
    }
   ],
   "source": [
    "!makim nox.lint"
   ]
  },
  {
   "cell_type": "markdown",
   "id": "e72f61de-20b3-427f-a868-a012d8ef5e18",
   "metadata": {},
   "source": [
    "As we also created a task that has both `tests` and `lint` tasks as dependencies, so we can run both just running the `all` task:"
   ]
  },
  {
   "cell_type": "code",
   "execution_count": 14,
   "id": "b710f60a-8d30-4f5a-83f3-1412953d8e78",
   "metadata": {},
   "outputs": [
    {
     "name": "stdout",
     "output_type": "stream",
     "text": [
      "Makim file: .makim.yaml\n",
      "\u001b[36mnox > \u001b[33mRunning session custom-name\u001b[0m\n",
      "\u001b[36mnox > \u001b[34mCreating virtual environment (virtualenv) using python3.8 in .nox/custom-name\u001b[0m\n",
      "\u001b[36mnox > \u001b[34mpython -m pip install pytest\u001b[0m\n",
      "\u001b[36mnox > \u001b[34mpytest --version\u001b[0m\n",
      "pytest 8.1.1\n",
      "\u001b[36mnox > \u001b[32mSession custom-name was successful.\u001b[0m\n",
      "\u001b[36mnox > \u001b[33mRunning session lint\u001b[0m\n",
      "\u001b[36mnox > \u001b[34mCreating virtual environment (virtualenv) using python3.8 in .nox/lint\u001b[0m\n",
      "\u001b[36mnox > \u001b[34mpython -m pip install flake8\u001b[0m\n",
      "\u001b[36mnox > \u001b[34mflake8 --version\u001b[0m\n",
      "7.0.0 (mccabe: 0.7.0, pycodestyle: 2.11.1, pyflakes: 3.2.0) CPython 3.8.1 on\n",
      "Linux\n",
      "\u001b[36mnox > \u001b[32mSession lint was successful.\u001b[0m\n"
     ]
    }
   ],
   "source": [
    "!makim nox.all"
   ]
  },
  {
   "cell_type": "markdown",
   "id": "e7731545-2457-4802-b41d-1bed686c5b95",
   "metadata": {},
   "source": [
    "## Concluding Thoughts"
   ]
  },
  {
   "cell_type": "markdown",
   "id": "9102d041-e403-44dd-a039-3b376bef46a8",
   "metadata": {},
   "source": [
    "Integrating Nox within a Makim configuration might not always offer tangible benefits, and potentially introducing unnecessary complexity.\n",
    "\n",
    "Although Nox offers robust automation capabilities, especially for testing across multiple Python environments, for projects where CI workflows are already optimized for environment-specific jobs, transitioning to Makim could simplify and streamline development processes."
   ]
  }
 ],
 "metadata": {
  "kernelspec": {
   "display_name": "Python 3 (ipykernel)",
   "language": "python",
   "name": "python3"
  },
  "language_info": {
   "codemirror_mode": {
    "name": "ipython",
    "version": 3
   },
   "file_extension": ".py",
   "mimetype": "text/x-python",
   "name": "python",
   "nbconvert_exporter": "python",
   "pygments_lexer": "ipython3",
   "version": "3.8.1"
  }
 },
 "nbformat": 4,
 "nbformat_minor": 5
}
